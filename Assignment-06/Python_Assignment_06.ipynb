{
  "nbformat": 4,
  "nbformat_minor": 0,
  "metadata": {
    "colab": {
      "provenance": []
    },
    "kernelspec": {
      "name": "python3",
      "display_name": "Python 3"
    },
    "language_info": {
      "name": "python"
    }
  },
  "cells": [
    {
      "cell_type": "markdown",
      "source": [
        "# **ASSIGNMENT 06 - Build_Compose_and_Decorate_A_Complete_Traditional_OOP_Practice_Series**"
      ],
      "metadata": {
        "id": "6CJDVkeJVDUE"
      }
    },
    {
      "cell_type": "code",
      "source": [
        "# 01 - Using self\n",
        "\n",
        "class Student :\n",
        "  def Display(self , name , marks):\n",
        "    self.name = name\n",
        "    self.marks = marks\n",
        "    print(f\"{self.name} achieved {self.marks} marks\")\n",
        "\n",
        "res = Student()\n",
        "res.Display(\"Hamza\" , 100)"
      ],
      "metadata": {
        "colab": {
          "base_uri": "https://localhost:8080/"
        },
        "id": "zmp6llfSVbKy",
        "outputId": "be8d9983-226a-4f8a-97fd-716f828ea291"
      },
      "execution_count": 6,
      "outputs": [
        {
          "output_type": "stream",
          "name": "stdout",
          "text": [
            "Hamza achieved 100 marks\n"
          ]
        }
      ]
    },
    {
      "cell_type": "code",
      "source": [
        "# 02 - Using cls\n",
        "\n",
        "class Counter:\n",
        "    count = 0\n",
        "\n",
        "    def __init__(self):\n",
        "        Counter.count += 1\n",
        "\n",
        "    @classmethod\n",
        "    def show_count(cls):\n",
        "        print(f\"Total objects created: {cls.count}\")\n",
        "\n",
        "obj1 = Counter()\n",
        "obj2 = Counter()\n",
        "obj3 = Counter()\n",
        "\n",
        "Counter.show_count()\n"
      ],
      "metadata": {
        "colab": {
          "base_uri": "https://localhost:8080/"
        },
        "id": "zFMdLL6LWWJS",
        "outputId": "8fbbe5f5-83ff-4d06-c30d-5a1031670960"
      },
      "execution_count": 7,
      "outputs": [
        {
          "output_type": "stream",
          "name": "stdout",
          "text": [
            "Total objects created: 3\n"
          ]
        }
      ]
    },
    {
      "cell_type": "code",
      "source": [
        "# 03 - Public Variables and Methods\n",
        "\n",
        "class Car:\n",
        "    def __init__(self, brand):\n",
        "        self.brand = brand\n",
        "\n",
        "    def start(self):\n",
        "        print(f\"The {self.brand} car has started.\")\n",
        "\n",
        "my_car = Car(\"Toyota\")\n",
        "\n",
        "print(\"Brand:\", my_car.brand)\n",
        "\n",
        "my_car.start()\n"
      ],
      "metadata": {
        "colab": {
          "base_uri": "https://localhost:8080/"
        },
        "id": "8FzgqNpHX6PP",
        "outputId": "c8ed76f3-e5c6-4c86-eab4-42e604abab30"
      },
      "execution_count": 8,
      "outputs": [
        {
          "output_type": "stream",
          "name": "stdout",
          "text": [
            "Brand: Toyota\n",
            "The Toyota car has started.\n"
          ]
        }
      ]
    },
    {
      "cell_type": "code",
      "source": [
        "# 04 - Class Variables and Class Methods\n",
        "\n",
        "class Bank:\n",
        "    bank_name = \"Hello World\"\n",
        "\n",
        "    @classmethod\n",
        "    def change_bank_name(cls, name):\n",
        "     cls.bank_name = name\n",
        "\n",
        "print(\"Actual Name :\",Bank.bank_name)\n",
        "Bank.change_bank_name(\"Hello World Bank\")\n",
        "print(\"After changing :\",Bank.bank_name)"
      ],
      "metadata": {
        "colab": {
          "base_uri": "https://localhost:8080/"
        },
        "id": "PSWxca7lYou2",
        "outputId": "cbb30be6-8ae2-4292-aac7-8f59dbc4fecb"
      },
      "execution_count": 14,
      "outputs": [
        {
          "output_type": "stream",
          "name": "stdout",
          "text": [
            "Actual Name : Hello World\n",
            "After changing : Hello World Bank\n"
          ]
        }
      ]
    },
    {
      "cell_type": "code",
      "source": [
        "# 05 - Static Variables and Static Methods\n",
        "\n",
        "class MathUtils :\n",
        "    @staticmethod\n",
        "    def add(a, b) :\n",
        "        return a + b\n",
        "\n",
        "res = MathUtils.add(10, 20)\n",
        "print(res)"
      ],
      "metadata": {
        "colab": {
          "base_uri": "https://localhost:8080/"
        },
        "id": "UXzdzM3SaGsh",
        "outputId": "8396a934-afcc-431a-cf17-fed819ac702e"
      },
      "execution_count": 17,
      "outputs": [
        {
          "output_type": "stream",
          "name": "stdout",
          "text": [
            "30\n"
          ]
        }
      ]
    },
    {
      "cell_type": "code",
      "source": [
        "# 06 - Constructors and Destructors\n",
        "\n",
        "class Logger:\n",
        "  def __init__(self , team1 , team2):\n",
        "    self.team1 = team1\n",
        "    self.team2 = team2\n",
        "    print(f\"Objects of {team1} and {team2} have been created\")\n",
        "\n",
        "match = Logger(\"Pakistan\" , \"India\")\n",
        "print(match.team1)\n",
        "print(match.team2)\n",
        "\n",
        "\n",
        "# Destructor\n",
        "\n",
        "class Logger:\n",
        "  def __init__(self , team1 , team2):\n",
        "    self.team1 = team1\n",
        "    self.team2 = team2\n",
        "\n",
        "  def __del__(self):\n",
        "    print(f\"Objects of {self.team1} and {self.team2} have been deleted\")\n",
        "\n",
        "match = Logger(\"Pakistan\" , \"India\")\n",
        "del match"
      ],
      "metadata": {
        "colab": {
          "base_uri": "https://localhost:8080/"
        },
        "id": "zqvkQO3RbHkO",
        "outputId": "b1439582-9e21-408c-dc05-1621c01afb7c"
      },
      "execution_count": 23,
      "outputs": [
        {
          "output_type": "stream",
          "name": "stdout",
          "text": [
            "Objects of Pakistan and India have been created\n",
            "Pakistan\n",
            "India\n",
            "Objects of Pakistan and India have been deleted\n"
          ]
        }
      ]
    },
    {
      "cell_type": "code",
      "source": [
        "# 07 - Access Modifiers: Public, Private, and Protected\n",
        "\n",
        "class Employee:\n",
        "  def __init__(self , name , salary , ssn) :\n",
        "    self.name = name\n",
        "    self._salary = salary\n",
        "    self.__ssn = ssn\n",
        "\n",
        "  def get_name(self) :\n",
        "    return self.name\n",
        "\n",
        "  def get_salary(self) :\n",
        "    return self._salary\n",
        "\n",
        "  def get_ssn(self) :\n",
        "    return self.__ssn\n",
        "\n",
        "emp = Employee(\"Hamza\" , 100000 , \"123456789\")\n",
        "print(emp.get_name())\n",
        "print(emp.get_salary())\n",
        "print(emp.get_ssn())\n",
        "# print(emp.__ssn)"
      ],
      "metadata": {
        "colab": {
          "base_uri": "https://localhost:8080/"
        },
        "id": "__hwhnSZczVB",
        "outputId": "1df64d31-6b32-417f-e8ad-d24d5f8576e6"
      },
      "execution_count": 29,
      "outputs": [
        {
          "output_type": "stream",
          "name": "stdout",
          "text": [
            "Hamza\n",
            "100000\n",
            "123456789\n"
          ]
        }
      ]
    },
    {
      "cell_type": "code",
      "source": [
        "# 08 - The super() Function\n",
        "\n",
        "class Person:\n",
        "  def __init__(self , name) :\n",
        "    self.name = name\n",
        "\n",
        "class Teacher(Person):\n",
        "  def __init__(self , name , subject) :\n",
        "    super().__init__(name)\n",
        "    self.subject = subject\n",
        "\n",
        "TName = Teacher(\"Hamza\" , \"Maths\")\n",
        "print(TName.name)\n",
        "print(TName.subject)"
      ],
      "metadata": {
        "colab": {
          "base_uri": "https://localhost:8080/"
        },
        "id": "9JBMA46hd9OD",
        "outputId": "73f95ffb-5fa2-4010-e1d0-f9e7f30c503a"
      },
      "execution_count": 36,
      "outputs": [
        {
          "output_type": "stream",
          "name": "stdout",
          "text": [
            "Hamza\n",
            "Maths\n"
          ]
        }
      ]
    },
    {
      "cell_type": "code",
      "source": [
        "# 09 - Abstract Classes and Methods\n",
        "\n",
        "from abc import ABC, abstractmethod\n",
        "\n",
        "class Shape(ABC):\n",
        "  @abstractmethod\n",
        "  def area():\n",
        "    pass\n",
        "\n",
        "class Rectangle(Shape):\n",
        "    def __init__(self , length , breadth):\n",
        "      self.length = length\n",
        "      self.breadth = breadth\n",
        "\n",
        "    def area(self):\n",
        "      return self.length * self.breadth\n",
        "\n",
        "rect = Rectangle(5 , 4)\n",
        "print(\"The area of the rectangle is:\")\n",
        "print(f\"{rect.length} x {rect.breadth} = {rect.area()}\")\n"
      ],
      "metadata": {
        "colab": {
          "base_uri": "https://localhost:8080/"
        },
        "id": "Qq7GikC2fhoa",
        "outputId": "ac70552b-67d6-4efd-fe5c-f69ad5c5bde2"
      },
      "execution_count": 41,
      "outputs": [
        {
          "output_type": "stream",
          "name": "stdout",
          "text": [
            "The area of the rectangle is:\n",
            "5 x 4 = 20\n"
          ]
        }
      ]
    },
    {
      "cell_type": "code",
      "source": [
        "# 10 - Instance Methods\n",
        "\n",
        "class Dog:\n",
        "  def __init__(self , name , breed):\n",
        "    self.name = name\n",
        "    self.breed = breed\n",
        "\n",
        "  def bark(self):\n",
        "    print(f\"{self.name} is barking......\")\n",
        "\n",
        "res = Dog(\"Tommy\" , \"lavardor\")\n",
        "res.bark()"
      ],
      "metadata": {
        "colab": {
          "base_uri": "https://localhost:8080/"
        },
        "id": "S2kPo-X4iB6j",
        "outputId": "6b785282-5757-4d91-96fc-10825438b91e"
      },
      "execution_count": 58,
      "outputs": [
        {
          "output_type": "stream",
          "name": "stdout",
          "text": [
            "Tommy is barking......\n"
          ]
        }
      ]
    },
    {
      "cell_type": "code",
      "source": [
        "# 11 - Class Methods\n",
        "\n",
        "class Books:\n",
        "  total_books = 0\n",
        "\n",
        "  def __init__(self):\n",
        "    Books.total_books += 1\n",
        "\n",
        "  @classmethod\n",
        "  def increment_book_count(cls):\n",
        "    print(f\"Total Books : {cls.total_books}\")\n",
        "\n",
        "book1 = Books()\n",
        "book2 = Books()\n",
        "book3 = Books()\n",
        "\n",
        "Books.increment_book_count()"
      ],
      "metadata": {
        "colab": {
          "base_uri": "https://localhost:8080/"
        },
        "id": "sjHWLgYvkJTU",
        "outputId": "cd4b24d9-2d52-4661-98d4-9321533342e0"
      },
      "execution_count": 60,
      "outputs": [
        {
          "output_type": "stream",
          "name": "stdout",
          "text": [
            "Total Books : 3\n"
          ]
        }
      ]
    },
    {
      "cell_type": "code",
      "source": [
        "# 12 - Static Methods\n",
        "\n",
        "class TemperatureConverter :\n",
        "  @staticmethod\n",
        "  def celsius_to_fahrenheit(c):\n",
        "   return (c * 9/5) + 32\n",
        "\n",
        "temp_c = 37\n",
        "temp_f = TemperatureConverter.celsius_to_fahrenheit(temp_c)\n",
        "print(f\"{temp_c}°C = {temp_f}°F\")"
      ],
      "metadata": {
        "colab": {
          "base_uri": "https://localhost:8080/"
        },
        "id": "XYPLraoFlK65",
        "outputId": "079aa5bd-82bd-41dc-e066-044e646f85fd"
      },
      "execution_count": 63,
      "outputs": [
        {
          "output_type": "stream",
          "name": "stdout",
          "text": [
            "37°C = 98.6°F\n"
          ]
        }
      ]
    },
    {
      "cell_type": "code",
      "source": [
        "# 13 - Composition\n",
        "\n",
        "class Engine:\n",
        "    def start(self):\n",
        "        print(\"Engine has started.\")\n",
        "\n",
        "class Car:\n",
        "    def __init__(self):\n",
        "        self.engine = Engine()\n",
        "\n",
        "    def start_car(self):\n",
        "        self.engine.start()\n",
        "\n",
        "# my_engine = Engine()\n",
        "my_car = Car()\n",
        "my_car.start_car()\n"
      ],
      "metadata": {
        "colab": {
          "base_uri": "https://localhost:8080/"
        },
        "id": "izaVYvknpIV0",
        "outputId": "0a5b7894-ce7b-41b8-b6d2-8cbba6537248"
      },
      "execution_count": 97,
      "outputs": [
        {
          "output_type": "stream",
          "name": "stdout",
          "text": [
            "Engine has started.\n"
          ]
        }
      ]
    },
    {
      "cell_type": "code",
      "source": [
        "# 14 - Aggregation\n",
        "\n",
        "class Employee:\n",
        "    def __init__(self, name):\n",
        "        self.name = name\n",
        "\n",
        "    def get_details(self):\n",
        "        return f\"Employee Name: {self.name}\"\n",
        "\n",
        "class Department:\n",
        "    def __init__(self, department_name, employee):\n",
        "        self.department_name = department_name\n",
        "        self.employee = employee\n",
        "\n",
        "    def show_details(self):\n",
        "        print(f\"Department: {self.department_name}\")\n",
        "        print(self.employee.get_details())\n",
        "\n",
        "emp = Employee(\"Hamza\")\n",
        "\n",
        "dept = Department(\"HR\", emp)\n",
        "\n",
        "dept.show_details()\n"
      ],
      "metadata": {
        "colab": {
          "base_uri": "https://localhost:8080/"
        },
        "id": "M-VSdTLsrRLH",
        "outputId": "c4f99de1-0150-4dd8-ba26-4ded3294433f"
      },
      "execution_count": 84,
      "outputs": [
        {
          "output_type": "stream",
          "name": "stdout",
          "text": [
            "Department: HR\n",
            "Employee Name: Hamza\n"
          ]
        }
      ]
    },
    {
      "cell_type": "code",
      "source": [
        "# 15 - Method Resolution Order (MRO) and Diamond Inheritance\n",
        "\n",
        "class A:\n",
        "    def show(self):\n",
        "        print(\"Show from Class A\")\n",
        "\n",
        "class B(A):\n",
        "    def show(self):\n",
        "        print(\"Show from Class B\")\n",
        "\n",
        "class C(A):\n",
        "    def show(self):\n",
        "        print(\"Show from Class C\")\n",
        "\n",
        "class D(B, C):\n",
        "    pass\n",
        "\n",
        "d = D()\n",
        "\n",
        "d.show()\n",
        "\n",
        "print(D.mro())\n"
      ],
      "metadata": {
        "colab": {
          "base_uri": "https://localhost:8080/"
        },
        "id": "hKdQrVjQscI1",
        "outputId": "baf19610-c24a-49fe-89fa-13102f0f5cab"
      },
      "execution_count": 102,
      "outputs": [
        {
          "output_type": "stream",
          "name": "stdout",
          "text": [
            "Show from Class B\n",
            "[<class '__main__.D'>, <class '__main__.B'>, <class '__main__.C'>, <class '__main__.A'>, <class 'object'>]\n"
          ]
        }
      ]
    },
    {
      "cell_type": "code",
      "source": [
        "# 16 - Function Decorators\n",
        "\n",
        "def log_function_call(func):\n",
        "    def wrapper():\n",
        "        print(\"Function is being called\")\n",
        "        return func()\n",
        "    return wrapper\n",
        "\n",
        "@log_function_call\n",
        "def say_hello():\n",
        "    print(\"Hello!\")\n",
        "\n",
        "say_hello()\n"
      ],
      "metadata": {
        "colab": {
          "base_uri": "https://localhost:8080/"
        },
        "id": "QibG6vKr2BMG",
        "outputId": "e9eea3a1-b033-412c-cc12-428959bf20be"
      },
      "execution_count": 106,
      "outputs": [
        {
          "output_type": "stream",
          "name": "stdout",
          "text": [
            "Function is being called\n",
            "Hello!\n"
          ]
        }
      ]
    },
    {
      "cell_type": "code",
      "source": [
        "# 17 - Class Decorators\n",
        "\n",
        "def add_greeting(cls):\n",
        "    def greet(self):\n",
        "        return \"Hello from Decorator!\"\n",
        "    cls.greet = greet\n",
        "    return cls\n",
        "\n",
        "@add_greeting\n",
        "class Person:\n",
        "    def __init__(self, name):\n",
        "        self.name = name\n",
        "\n",
        "p = Person(\"Hamza\")\n",
        "\n",
        "print(p.greet())\n"
      ],
      "metadata": {
        "colab": {
          "base_uri": "https://localhost:8080/"
        },
        "id": "F7cTUD563t2I",
        "outputId": "c587d3cc-24c9-47e3-a164-2cee18797cbd"
      },
      "execution_count": 109,
      "outputs": [
        {
          "output_type": "stream",
          "name": "stdout",
          "text": [
            "Hello from Decorator!\n"
          ]
        }
      ]
    },
    {
      "cell_type": "code",
      "source": [
        "# 18 - Property Decorators: @property, @setter, and @deleter\n",
        "\n",
        "class Product:\n",
        "    def __init__(self, price):\n",
        "        self._price = price\n",
        "\n",
        "    @property\n",
        "    def price(self):\n",
        "        print(\"Getting price...\")\n",
        "        return self._price\n",
        "\n",
        "    @price.setter\n",
        "    def price(self, value):\n",
        "        if value < 0:\n",
        "            raise ValueError(\"Price cannot be negative!\")\n",
        "        print(\"Setting price...\")\n",
        "        self._price = value\n",
        "\n",
        "    @price.deleter\n",
        "    def price(self):\n",
        "        print(\"Deleting price...\")\n",
        "        del self._price\n",
        "\n",
        "item = Product(100)\n",
        "\n",
        "print(item.price)\n",
        "\n",
        "item.price = 150\n",
        "\n",
        "print(item.price)\n",
        "\n",
        "del item.price\n"
      ],
      "metadata": {
        "colab": {
          "base_uri": "https://localhost:8080/"
        },
        "id": "GNnFtjx-4WDp",
        "outputId": "9da235ef-6eb5-4734-98c7-337ea75ab473"
      },
      "execution_count": 114,
      "outputs": [
        {
          "output_type": "stream",
          "name": "stdout",
          "text": [
            "Getting price...\n",
            "100\n",
            "Setting price...\n",
            "Getting price...\n",
            "150\n",
            "Deleting price...\n"
          ]
        }
      ]
    },
    {
      "cell_type": "code",
      "source": [
        "# 19 - callable() and __call__()\n",
        "\n",
        "class Multiplier:\n",
        "    def __init__(self, factor):\n",
        "        self.factor = factor\n",
        "\n",
        "    def __call__(self, value):\n",
        "        return value * self.factor\n",
        "\n",
        "multiply_by_5 = Multiplier(5)\n",
        "\n",
        "print(callable(multiply_by_5))\n",
        "\n",
        "result = multiply_by_5(10)\n",
        "print(result)\n"
      ],
      "metadata": {
        "colab": {
          "base_uri": "https://localhost:8080/"
        },
        "id": "_qOkJhek44EX",
        "outputId": "502f800c-fbfa-4f7b-bfc5-fe2c41f61092"
      },
      "execution_count": 116,
      "outputs": [
        {
          "output_type": "stream",
          "name": "stdout",
          "text": [
            "True\n",
            "50\n"
          ]
        }
      ]
    },
    {
      "cell_type": "code",
      "source": [
        "# 20 - Creating a Custom Exception\n",
        "\n",
        "class InvalidAgeError(Exception):\n",
        "    def __init__(self, message=\"Age must be 18 or older\"):\n",
        "        self.message = message\n",
        "        super().__init__(self.message)\n",
        "\n",
        "def check_age(age):\n",
        "    if age < 18:\n",
        "        raise InvalidAgeError()\n",
        "    else:\n",
        "        print(\"Access granted. Age is valid.\")\n",
        "\n",
        "try:\n",
        "    user_age = int(input(\"Enter your age: \"))\n",
        "    check_age(user_age)\n",
        "except InvalidAgeError as e:\n",
        "    print(\"Custom Exception Caught:\", e)\n",
        "except ValueError:\n",
        "    print(\"Please enter a valid number.\")\n"
      ],
      "metadata": {
        "colab": {
          "base_uri": "https://localhost:8080/"
        },
        "id": "HKSLNcVz5H0Z",
        "outputId": "54352ca2-0f8c-4c08-b984-c8f37418df56"
      },
      "execution_count": 118,
      "outputs": [
        {
          "output_type": "stream",
          "name": "stdout",
          "text": [
            "Enter your age: 22\n",
            "Access granted. Age is valid.\n"
          ]
        }
      ]
    },
    {
      "cell_type": "code",
      "source": [
        "# 21 - Make a Custom Class Iterable\n",
        "\n",
        "class Countdown:\n",
        "    def __init__(self, start):\n",
        "        self.start = start\n",
        "\n",
        "    def __iter__(self):\n",
        "        self.current = self.start\n",
        "        return self\n",
        "\n",
        "    def __next__(self):\n",
        "        if self.current <= 0:\n",
        "            raise StopIteration\n",
        "        self.current -= 1\n",
        "        return self.current\n",
        "\n",
        "countdown = Countdown(5)\n",
        "\n",
        "for number in countdown:\n",
        "    print(number)\n"
      ],
      "metadata": {
        "colab": {
          "base_uri": "https://localhost:8080/"
        },
        "id": "StoLoYZV5XJ8",
        "outputId": "89a0cac2-66d5-4a06-87f2-3d988edd337b"
      },
      "execution_count": 119,
      "outputs": [
        {
          "output_type": "stream",
          "name": "stdout",
          "text": [
            "4\n",
            "3\n",
            "2\n",
            "1\n",
            "0\n"
          ]
        }
      ]
    }
  ]
}